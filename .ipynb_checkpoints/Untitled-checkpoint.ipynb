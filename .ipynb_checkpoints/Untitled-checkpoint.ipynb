{
 "cells": [
  {
   "cell_type": "code",
   "execution_count": 5,
   "metadata": {},
   "outputs": [
    {
     "name": "stdout",
     "output_type": "stream",
     "text": [
      "3\n",
      "24 26 28\n",
      "0\n",
      "[0, 0, 0]\n",
      "1\n",
      "[0, 0, 0]\n",
      "2\n",
      "[0, 2, 0]\n",
      "2\n"
     ]
    }
   ],
   "source": [
    "N = int(input())\n",
    "lists = list(map(int, input().split()))\n",
    "\n",
    "x = 1\n",
    "while True:\n",
    "    li = list(map(lambda i: i % (2**x), lists))\n",
    "    if li.count(0) < N:\n",
    "        break\n",
    "    x += 1\n",
    "print(x)"
   ]
  },
  {
   "cell_type": "code",
   "execution_count": null,
   "metadata": {},
   "outputs": [],
   "source": []
  }
 ],
 "metadata": {
  "kernelspec": {
   "display_name": "Python 3",
   "language": "python",
   "name": "python3"
  },
  "language_info": {
   "codemirror_mode": {
    "name": "ipython",
    "version": 3
   },
   "file_extension": ".py",
   "mimetype": "text/x-python",
   "name": "python",
   "nbconvert_exporter": "python",
   "pygments_lexer": "ipython3",
   "version": "3.6.6"
  }
 },
 "nbformat": 4,
 "nbformat_minor": 2
}
